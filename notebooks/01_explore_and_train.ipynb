{
 "cells": [
  {
   "cell_type": "markdown",
   "metadata": {},
   "source": [
    "# Sentiment Analysis: Exploration and Training\n",
    "This notebook explores data, preprocesses text, trains traditional models, and evaluates a transformer pipeline."
   ]
  },
  {
   "cell_type": "code",
   "execution_count": null,
   "metadata": {},
   "outputs": [],
   "source": [
    "# If running first time, ensure requirements are installed in your environment\n",
    "# In PowerShell (outside notebook):\n",
    "#   python -m venv .venv; .\\.venv\\Scripts\\Activate.ps1; pip install -r requirements.txt\n",
    "\n",
    "import os, sys\n",
    "project_root = os.path.abspath(os.path.join(os.getcwd(), '..')) if os.path.basename(os.getcwd()) == 'notebooks' else os.getcwd()\n",
    "if project_root not in sys.path:\n",
    "    sys.path.append(os.path.join(project_root, 'src'))\n",
    "\n",
    "import pandas as pd\n",
    "from preprocessing import TextPreprocessor, load_sample_data, create_train_test_split\n",
    "from sentiment_analyzer import TraditionalSentimentAnalyzer, TransformerSentimentAnalyzer, SentimentAnalysisComparator\n"
   ]
  },
  {
   "cell_type": "code",
   "execution_count": null,
   "metadata": {},
   "outputs": [],
   "source": [
    "# 1) Load sample data\n",
    "df = load_sample_data()\n",
    "df.head()"
   ]
  },
  {
   "cell_type": "code",
   "execution_count": null,
   "metadata": {},
   "outputs": [],
   "source": [
    "# 2) Preprocess text\n",
    "pre = TextPreprocessor()\n",
    "dfp = pre.preprocess_dataframe(df, 'text', 'sentiment')\n",
    "dfp.head()"
   ]
  },
  {
   "cell_type": "code",
   "execution_count": null,
   "metadata": {},
   "outputs": [],
   "source": [
    "# 3) Train/test split\n",
    "X_train, X_test, y_train, y_test = create_train_test_split(dfp, 'text_processed', 'sentiment', test_size=0.3, random_state=42)\n",
    "len(X_train), len(X_test)"
   ]
  },
  {
   "cell_type": "code",
   "execution_count": null,
   "metadata": {},
   "outputs": [],
   "source": [
    "# 4) Compare models\n",
    "comp = SentimentAnalysisComparator()\n",
    "comp.add_traditional_model('Logistic Regression', 'logistic_regression')\n",
    "comp.add_traditional_model('SVM', 'svm')\n",
    "comp.add_traditional_model('Naive Bayes', 'naive_bayes')\n",
    "comp.add_transformer_model('Transformer', 'cardiffnlp/twitter-roberta-base-sentiment-latest')\n",
    "results = comp.compare_models(X_train, y_train, X_test, y_test)\n",
    "results"
   ]
  },
  {
   "cell_type": "code",
   "execution_count": null,
   "metadata": {},
   "outputs": [],
   "source": [
    "# 5) Plot comparison (optional)\n",
    "comp.plot_comparison(results)"
   ]
  },
  {
   "cell_type": "code",
   "execution_count": null,
   "metadata": {},
   "outputs": [],
   "source": [
    "# 6) Try predictions\n",
    "texts = [\n",
    "    'I absolutely love this product!',\n",
    "    'This is terrible and I regret buying it.',\n",
    "    'It\'s fine, nothing special.'\n",
    "]\n",
    "transformer = TransformerSentimentAnalyzer()\n",
    "transformer.predict_with_scores(texts)"
   ]
  }
 ],
 "metadata": {
  "kernelspec": {
   "display_name": "Python 3",
   "language": "python",
   "name": "python3"
  },
  "language_info": {
   "name": "python",
   "version": "3"
  }
 },
 "nbformat": 4,
 "nbformat_minor": 5
}

